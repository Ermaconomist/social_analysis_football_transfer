{
 "cells": [
  {
   "cell_type": "markdown",
   "metadata": {},
   "source": [
    "# Crawler Transfermarkt"
   ]
  },
  {
   "cell_type": "markdown",
   "metadata": {},
   "source": [
    "### Load Webpage"
   ]
  },
  {
   "cell_type": "markdown",
   "metadata": {},
   "source": [
    "Create Variable that tells Transfermarkt that we are a Browser accessing the HTML Code"
   ]
  },
  {
   "cell_type": "code",
   "execution_count": 42,
   "metadata": {},
   "outputs": [],
   "source": [
    "import requests\n",
    "from bs4 import BeautifulSoup\n",
    "import pandas as pd\n",
    "import numpy as np\n"
   ]
  },
  {
   "cell_type": "code",
   "execution_count": null,
   "metadata": {},
   "outputs": [],
   "source": []
  },
  {
   "cell_type": "code",
   "execution_count": 6,
   "metadata": {},
   "outputs": [],
   "source": [
    "headers = {'User-Agent': \n",
    "           'Mozilla/5.0 (X11; Linux x86_64) AppleWebKit/537.36 (KHTML, like Gecko) Chrome/47.0.2526.106 Safari/537.36'}"
   ]
  },
  {
   "cell_type": "code",
   "execution_count": 7,
   "metadata": {},
   "outputs": [],
   "source": [
    "page = \"https://www.transfermarkt.com/fc-basel-1893/alletransfers/verein/26\""
   ]
  },
  {
   "cell_type": "code",
   "execution_count": 8,
   "metadata": {},
   "outputs": [],
   "source": [
    "pageTree = requests.get(page, headers=headers)"
   ]
  },
  {
   "cell_type": "code",
   "execution_count": 10,
   "metadata": {},
   "outputs": [],
   "source": [
    "soup = BeautifulSoup(pageTree.content, 'html.parser')"
   ]
  },
  {
   "cell_type": "markdown",
   "metadata": {},
   "source": [
    "### Locate Data and Extract"
   ]
  },
  {
   "cell_type": "code",
   "execution_count": 150,
   "metadata": {},
   "outputs": [],
   "source": [
    "#find name of the team\n",
    "team = soup.find('div', id =\"verein_head\").find('span').string\n",
    "#first thre tables do not have any content, same for all teams\n",
    "tables = soup.find_all('div','large-6 columns')[3:]\n",
    "#set how many seasons we want to track\n",
    "seasons_counter = 0\n",
    "#will create dataframe for each subtable in order to combine at the end, list to catch subtables\n",
    "df_collection = []\n",
    "#for every subtable get information needed and put into dictionary\n",
    "for table in tables:\n",
    "    if seasons_counter < 20:\n",
    "        seasons_counter += 1\n",
    "        dict = {}\n",
    "        #titel of every subtable\n",
    "        dict[\"Season\"] = table.find(\"h2\").string.strip()\n",
    "        #every tr tag contains all information of every player\n",
    "        players = table.tbody.find_all('tr')\n",
    "        player_names = []\n",
    "        player_clubs = []\n",
    "        player_transfervalues = []\n",
    "        for player in players:\n",
    "            #get the name of the player\n",
    "            player_names.append(player.find('td','hauptlink').a.string)\n",
    "            #get the club of the player\n",
    "            player_clubs.append(player.find('td','no-border-links').a.string)\n",
    "            #get the transfervalues\n",
    "            player_transfervalues.append(player.find('td','rechts').string)\n",
    "            \n",
    "        #add list of player name to dictionary\n",
    "        dict[\"Name\"]= player_names\n",
    "        #add list of transfervalues to dictionary\n",
    "        dict[\"Transfer Sum\"]= player_transfervalues\n",
    "\n",
    "        #if the the subtable shows arrivals, add club name to \"from\" column\n",
    "        if \"Arrivals\" in dict[\"Season\"]:\n",
    "            dict[\"From\"] = player_clubs\n",
    "            #filling in \"to\" column with team that we are crawling, making sure columns have same length\n",
    "            dict[\"To\"] = [team for x in range(len(player_names))]\n",
    "        #if the subtable shows departures, add club name to \"to\" table\n",
    "        else:\n",
    "            #filling in \"from\" column with team that we are crawling, making sure columns have same length\n",
    "            dict[\"From\"] = [team for x in range(len(player_names))]\n",
    "            dict[\"To\"] = player_clubs\n",
    "        \n",
    "        #make season value list as long as player_names list\n",
    "  \n",
    "        dict[\"Season\"] = [dict[\"Season\"] for x in range(len(player_names))]\n",
    "    \n",
    "        #create data frame\n",
    "        df = pd.DataFrame.from_dict(dict)\n",
    "        #add to datafram collection\n",
    "        df_collection.append(df)\n",
    "        \n",
    "#combine data frames\n",
    "result = pd.concat(df_collection,ignore_index = True)\n",
    "\n",
    "result.to_csv(\"basel_done\")\n",
    "\n"
   ]
  },
  {
   "cell_type": "code",
   "execution_count": null,
   "metadata": {},
   "outputs": [],
   "source": []
  },
  {
   "cell_type": "markdown",
   "metadata": {},
   "source": [
    "### Organise Data to Dataframe"
   ]
  },
  {
   "cell_type": "code",
   "execution_count": null,
   "metadata": {},
   "outputs": [],
   "source": []
  },
  {
   "cell_type": "code",
   "execution_count": null,
   "metadata": {},
   "outputs": [],
   "source": []
  },
  {
   "cell_type": "code",
   "execution_count": null,
   "metadata": {},
   "outputs": [],
   "source": []
  },
  {
   "cell_type": "code",
   "execution_count": null,
   "metadata": {},
   "outputs": [],
   "source": []
  },
  {
   "cell_type": "code",
   "execution_count": null,
   "metadata": {},
   "outputs": [],
   "source": []
  }
 ],
 "metadata": {
  "kernelspec": {
   "display_name": "Python 3",
   "language": "python",
   "name": "python3"
  },
  "language_info": {
   "codemirror_mode": {
    "name": "ipython",
    "version": 3
   },
   "file_extension": ".py",
   "mimetype": "text/x-python",
   "name": "python",
   "nbconvert_exporter": "python",
   "pygments_lexer": "ipython3",
   "version": "3.8.5"
  }
 },
 "nbformat": 4,
 "nbformat_minor": 4
}
