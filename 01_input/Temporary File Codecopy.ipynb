{
 "cells": [
  {
   "cell_type": "markdown",
   "metadata": {},
   "source": [
    "# Temporary File"
   ]
  },
  {
   "cell_type": "markdown",
   "metadata": {},
   "source": [
    "### Create Dummy Files"
   ]
  },
  {
   "cell_type": "markdown",
   "metadata": {},
   "source": [
    "## Import Libraries"
   ]
  },
  {
   "cell_type": "code",
   "execution_count": 6,
   "metadata": {},
   "outputs": [],
   "source": [
    "import csv\n",
    "import pandas as pd\n",
    "import numpy as np"
   ]
  },
  {
   "cell_type": "markdown",
   "metadata": {},
   "source": [
    "#### temp_dict_countries_ouput file"
   ]
  },
  {
   "cell_type": "code",
   "execution_count": 113,
   "metadata": {},
   "outputs": [
    {
     "data": {
      "text/html": [
       "<div>\n",
       "<style scoped>\n",
       "    .dataframe tbody tr th:only-of-type {\n",
       "        vertical-align: middle;\n",
       "    }\n",
       "\n",
       "    .dataframe tbody tr th {\n",
       "        vertical-align: top;\n",
       "    }\n",
       "\n",
       "    .dataframe thead th {\n",
       "        text-align: right;\n",
       "    }\n",
       "</style>\n",
       "<table border=\"1\" class=\"dataframe\">\n",
       "  <thead>\n",
       "    <tr style=\"text-align: right;\">\n",
       "      <th></th>\n",
       "      <th>Team</th>\n",
       "      <th>Country</th>\n",
       "    </tr>\n",
       "  </thead>\n",
       "  <tbody>\n",
       "    <tr>\n",
       "      <th>0</th>\n",
       "      <td>FC Prilly</td>\n",
       "      <td>Switzerland</td>\n",
       "    </tr>\n",
       "    <tr>\n",
       "      <th>1</th>\n",
       "      <td>Bari</td>\n",
       "      <td>Italy</td>\n",
       "    </tr>\n",
       "    <tr>\n",
       "      <th>2</th>\n",
       "      <td>Hoffenheim II</td>\n",
       "      <td>Germany</td>\n",
       "    </tr>\n",
       "  </tbody>\n",
       "</table>\n",
       "</div>"
      ],
      "text/plain": [
       "            Team      Country\n",
       "0      FC Prilly  Switzerland\n",
       "1           Bari        Italy\n",
       "2  Hoffenheim II      Germany"
      ]
     },
     "execution_count": 113,
     "metadata": {},
     "output_type": "execute_result"
    }
   ],
   "source": [
    "dict_countries = {'FC Prilly': 'Not Found', 'Bari': 'Italy', 'Hoffenheim II': 'Germany'}\n",
    "\n",
    "with open('temp_dict_countries_output.csv', 'w') as csv_file:  \n",
    "        writer = csv.writer(csv_file)\n",
    "        for key, value in dict_countries.items():\n",
    "            writer.writerow([key, value])\n",
    "\n",
    "#Take not found values and create excel file with those\n",
    "\n",
    "not_found ={}\n",
    "for (key, value) in dict_countries.items():\n",
    "   if value == \"Not Found\":\n",
    "       not_found[key] = value\n",
    "\n",
    "with open('temp_not_found.csv', 'w') as csv_file:  \n",
    "    writer = csv.writer(csv_file)\n",
    "    for key, value in not_found.items():\n",
    "        writer.writerow([key, value])\n",
    "\n",
    "\n",
    "#Manual task, find countries for \"Not-Found\" cases\n",
    "#Import original dictionary (that was exported) as dataframe\n",
    "#dict to dataframe\n",
    "countries_df = pd.read_csv('temp_dict_countries_output.csv', sep=\",\",header = None)\n",
    "\n",
    "#give column names\n",
    "countries_df.columns = ['Team', 'Country']\n",
    "\n",
    "#print(countries_df.head())\n",
    "\n",
    "#Import Manualy completed file\n",
    "\n",
    "countries_not_found_df = pd.read_excel('country_not_found.xlsx', index_col=None)\n",
    "#countries_not_found_df.head()\n",
    "\n",
    "#replace not found values\n",
    "\n",
    "\n",
    "df_combined = countries_df.merge(countries_not_found_df, how=\"left\",on=\"Team\")\n",
    "\n",
    "#countries_df.where(countries_df[\"Country\"] != \"Not Found\", )\n",
    "\n",
    "df_combined[\"Country_x\"]=np.where(df_combined[\"Country_x\"]==\"Not Found\",df_combined.Country_y,df_combined.Country_x)\n",
    "df_country_complete = df_combined.iloc[:,0:2]\n",
    "df_country_complete.columns = ['Team', 'Country']\n",
    "df_country_complete\n",
    "\n",
    "\n",
    "\n",
    "\n",
    "\n",
    "\n"
   ]
  },
  {
   "cell_type": "markdown",
   "metadata": {},
   "source": [
    "#### create dummy data frame"
   ]
  },
  {
   "cell_type": "code",
   "execution_count": 30,
   "metadata": {},
   "outputs": [],
   "source": [
    "temp_all_df = pd.read_csv('temp_all_df_file.txt', sep=\",\")"
   ]
  },
  {
   "cell_type": "code",
   "execution_count": 31,
   "metadata": {},
   "outputs": [
    {
     "data": {
      "text/html": [
       "<div>\n",
       "<style scoped>\n",
       "    .dataframe tbody tr th:only-of-type {\n",
       "        vertical-align: middle;\n",
       "    }\n",
       "\n",
       "    .dataframe tbody tr th {\n",
       "        vertical-align: top;\n",
       "    }\n",
       "\n",
       "    .dataframe thead th {\n",
       "        text-align: right;\n",
       "    }\n",
       "</style>\n",
       "<table border=\"1\" class=\"dataframe\">\n",
       "  <thead>\n",
       "    <tr style=\"text-align: right;\">\n",
       "      <th></th>\n",
       "      <th>Unnamed: 0</th>\n",
       "      <th>Season</th>\n",
       "      <th>Name</th>\n",
       "      <th>Transfer Sum</th>\n",
       "      <th>From</th>\n",
       "      <th>To</th>\n",
       "    </tr>\n",
       "  </thead>\n",
       "  <tbody>\n",
       "    <tr>\n",
       "      <th>0</th>\n",
       "      <td>0</td>\n",
       "      <td>Zugänge 20/21</td>\n",
       "      <td>Arthur Cabral</td>\n",
       "      <td>4,40 Mio. €</td>\n",
       "      <td>FC Prilly</td>\n",
       "      <td>Bari</td>\n",
       "    </tr>\n",
       "    <tr>\n",
       "      <th>1</th>\n",
       "      <td>1</td>\n",
       "      <td>Zugänge 20/21</td>\n",
       "      <td>Kaly Sene</td>\n",
       "      <td>4,00 Mio. €</td>\n",
       "      <td>Hoffenheim II</td>\n",
       "      <td>FC Prilly</td>\n",
       "    </tr>\n",
       "    <tr>\n",
       "      <th>2</th>\n",
       "      <td>2</td>\n",
       "      <td>Zugänge 20/21</td>\n",
       "      <td>Edon Zhegrova</td>\n",
       "      <td>3,00 Mio. €</td>\n",
       "      <td>Bari</td>\n",
       "      <td>Hoffenheim II</td>\n",
       "    </tr>\n",
       "  </tbody>\n",
       "</table>\n",
       "</div>"
      ],
      "text/plain": [
       "   Unnamed: 0         Season           Name Transfer Sum           From  \\\n",
       "0           0  Zugänge 20/21  Arthur Cabral  4,40 Mio. €      FC Prilly   \n",
       "1           1  Zugänge 20/21      Kaly Sene  4,00 Mio. €  Hoffenheim II   \n",
       "2           2  Zugänge 20/21  Edon Zhegrova  3,00 Mio. €           Bari   \n",
       "\n",
       "              To  \n",
       "0           Bari  \n",
       "1      FC Prilly  \n",
       "2  Hoffenheim II  "
      ]
     },
     "execution_count": 31,
     "metadata": {},
     "output_type": "execute_result"
    }
   ],
   "source": [
    "temp_all_df.head()"
   ]
  },
  {
   "cell_type": "markdown",
   "metadata": {},
   "source": [
    "#### Mapping Countries"
   ]
  },
  {
   "cell_type": "code",
   "execution_count": 135,
   "metadata": {},
   "outputs": [
    {
     "data": {
      "text/html": [
       "<div>\n",
       "<style scoped>\n",
       "    .dataframe tbody tr th:only-of-type {\n",
       "        vertical-align: middle;\n",
       "    }\n",
       "\n",
       "    .dataframe tbody tr th {\n",
       "        vertical-align: top;\n",
       "    }\n",
       "\n",
       "    .dataframe thead th {\n",
       "        text-align: right;\n",
       "    }\n",
       "</style>\n",
       "<table border=\"1\" class=\"dataframe\">\n",
       "  <thead>\n",
       "    <tr style=\"text-align: right;\">\n",
       "      <th></th>\n",
       "      <th>Season</th>\n",
       "      <th>Name</th>\n",
       "      <th>Transfer Sum</th>\n",
       "      <th>From</th>\n",
       "      <th>FromCountry</th>\n",
       "      <th>To</th>\n",
       "      <th>ToCountry</th>\n",
       "    </tr>\n",
       "  </thead>\n",
       "  <tbody>\n",
       "    <tr>\n",
       "      <th>0</th>\n",
       "      <td>Zugänge 20/21</td>\n",
       "      <td>Arthur Cabral</td>\n",
       "      <td>4,40 Mio. €</td>\n",
       "      <td>FC Prilly</td>\n",
       "      <td>Switzerland</td>\n",
       "      <td>Bari</td>\n",
       "      <td>Italy</td>\n",
       "    </tr>\n",
       "    <tr>\n",
       "      <th>1</th>\n",
       "      <td>Zugänge 20/21</td>\n",
       "      <td>Kaly Sene</td>\n",
       "      <td>4,00 Mio. €</td>\n",
       "      <td>Hoffenheim II</td>\n",
       "      <td>Germany</td>\n",
       "      <td>FC Prilly</td>\n",
       "      <td>Switzerland</td>\n",
       "    </tr>\n",
       "    <tr>\n",
       "      <th>2</th>\n",
       "      <td>Zugänge 20/21</td>\n",
       "      <td>Edon Zhegrova</td>\n",
       "      <td>3,00 Mio. €</td>\n",
       "      <td>Bari</td>\n",
       "      <td>Italy</td>\n",
       "      <td>Hoffenheim II</td>\n",
       "      <td>Germany</td>\n",
       "    </tr>\n",
       "  </tbody>\n",
       "</table>\n",
       "</div>"
      ],
      "text/plain": [
       "          Season           Name Transfer Sum           From  FromCountry  \\\n",
       "0  Zugänge 20/21  Arthur Cabral  4,40 Mio. €      FC Prilly  Switzerland   \n",
       "1  Zugänge 20/21      Kaly Sene  4,00 Mio. €  Hoffenheim II      Germany   \n",
       "2  Zugänge 20/21  Edon Zhegrova  3,00 Mio. €           Bari        Italy   \n",
       "\n",
       "              To    ToCountry  \n",
       "0           Bari        Italy  \n",
       "1      FC Prilly  Switzerland  \n",
       "2  Hoffenheim II      Germany  "
      ]
     },
     "execution_count": 135,
     "metadata": {},
     "output_type": "execute_result"
    }
   ],
   "source": [
    "#create two new fields FromCountry and ToCountry and map countries to clubs\n",
    "\n",
    "#from_country_added_1 = temp_all_df.merge(df_country_complete, how=\"left\",left_on = \"From\", right_on = \"Team\")\n",
    "#from_country_added_2 = from_country_added.rename(columns = {'Country': 'FromCountry'})\n",
    "#from_country_added_2.head()\n",
    "\n",
    "#to_country_added_1 = from_country_added.merge(df_country_complete, how=\"left\",left_on = \"To\", right_on = \"Team\")\n",
    "#to_country_added_2 = to_country_added.rename(columns = {'Country': 'ToCountry'})\n",
    "#to_country_added_2.head()\n",
    "\n",
    "\n",
    "#df_country_complete = to_country_added[[\"Season\",\"Name\",\"Transfer Sum\",\"From\",\"FromCountry\",\"To\",\"ToCountry\"]]\n",
    "df_country_complete.head()\n",
    "\n",
    "\n",
    "\n",
    "\n",
    "\n",
    "\n",
    "\n"
   ]
  },
  {
   "cell_type": "code",
   "execution_count": null,
   "metadata": {},
   "outputs": [],
   "source": [
    "#Somehow add from language and to language\n",
    "\n"
   ]
  }
 ],
 "metadata": {
  "kernelspec": {
   "display_name": "Python 3",
   "language": "python",
   "name": "python3"
  },
  "language_info": {
   "codemirror_mode": {
    "name": "ipython",
    "version": 3
   },
   "file_extension": ".py",
   "mimetype": "text/x-python",
   "name": "python",
   "nbconvert_exporter": "python",
   "pygments_lexer": "ipython3",
   "version": "3.8.3"
  }
 },
 "nbformat": 4,
 "nbformat_minor": 4
}
